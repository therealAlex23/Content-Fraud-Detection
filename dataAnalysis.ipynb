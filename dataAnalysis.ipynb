{
 "cells": [
  {
   "cell_type": "markdown",
   "metadata": {},
   "source": [
    "# Image Fraud Detection Algorithm Analysis"
   ]
  },
  {
   "cell_type": "code",
   "execution_count": 4,
   "metadata": {},
   "outputs": [
    {
     "name": "stderr",
     "output_type": "stream",
     "text": [
      "2022-05-18 19:40:03.751768: W tensorflow/stream_executor/platform/default/dso_loader.cc:64] Could not load dynamic library 'libcudart.so.11.0'; dlerror: libcudart.so.11.0: cannot open shared object file: No such file or directory\n",
      "2022-05-18 19:40:03.751786: I tensorflow/stream_executor/cuda/cudart_stub.cc:29] Ignore above cudart dlerror if you do not have a GPU set up on your machine.\n"
     ]
    }
   ],
   "source": [
    "import numpy as np\n",
    "import os\n",
    "import matplotlib.pyplot as plt\n",
    "from sklearn.model_selection import train_test_split\n",
    "from tensorflow.keras.utils import image_dataset_from_directory\n",
    "import tensorflow as tf\n",
    "from tensorflow.keras.preprocessing import image\n",
    "\n",
    "DIR = os.getcwd()\n",
    "IMG_WIDTH = 28\n",
    "IMG_HEIGHT = 28\n",
    "IMG_PIXELS = IMG_HEIGHT*IMG_WIDTH\n",
    "COLOR_MODE = 'grayscale'\n",
    "PATH_DATASET_TRAIN = \"Datasets/dataset_train/\""
   ]
  },
  {
   "cell_type": "code",
   "execution_count": 5,
   "metadata": {},
   "outputs": [],
   "source": [
    "plt.rcParams['figure.figsize'] = (15,12)"
   ]
  },
  {
   "cell_type": "markdown",
   "metadata": {},
   "source": [
    "## Data Loading\n",
    "\n",
    "Loading a total of 40000 images with 28x28 pixels and grayscale as the color mode. The division is as the following:\n",
    "\n",
    "- 20000 real images\n",
    "- 20000 fake images\n"
   ]
  },
  {
   "cell_type": "code",
   "execution_count": 6,
   "metadata": {},
   "outputs": [
    {
     "name": "stdout",
     "output_type": "stream",
     "text": [
      "Found 40000 files belonging to 2 classes.\n"
     ]
    },
    {
     "name": "stderr",
     "output_type": "stream",
     "text": [
      "2022-05-18 19:40:07.730430: I tensorflow/stream_executor/cuda/cuda_gpu_executor.cc:975] successful NUMA node read from SysFS had negative value (-1), but there must be at least one NUMA node, so returning NUMA node zero\n",
      "2022-05-18 19:40:07.731032: W tensorflow/stream_executor/platform/default/dso_loader.cc:64] Could not load dynamic library 'libcudart.so.11.0'; dlerror: libcudart.so.11.0: cannot open shared object file: No such file or directory\n",
      "2022-05-18 19:40:07.731084: W tensorflow/stream_executor/platform/default/dso_loader.cc:64] Could not load dynamic library 'libcublas.so.11'; dlerror: libcublas.so.11: cannot open shared object file: No such file or directory\n",
      "2022-05-18 19:40:07.731130: W tensorflow/stream_executor/platform/default/dso_loader.cc:64] Could not load dynamic library 'libcublasLt.so.11'; dlerror: libcublasLt.so.11: cannot open shared object file: No such file or directory\n",
      "2022-05-18 19:40:07.731175: W tensorflow/stream_executor/platform/default/dso_loader.cc:64] Could not load dynamic library 'libcufft.so.10'; dlerror: libcufft.so.10: cannot open shared object file: No such file or directory\n",
      "2022-05-18 19:40:07.731220: W tensorflow/stream_executor/platform/default/dso_loader.cc:64] Could not load dynamic library 'libcurand.so.10'; dlerror: libcurand.so.10: cannot open shared object file: No such file or directory\n",
      "2022-05-18 19:40:07.731269: W tensorflow/stream_executor/platform/default/dso_loader.cc:64] Could not load dynamic library 'libcusolver.so.11'; dlerror: libcusolver.so.11: cannot open shared object file: No such file or directory\n",
      "2022-05-18 19:40:07.731314: W tensorflow/stream_executor/platform/default/dso_loader.cc:64] Could not load dynamic library 'libcusparse.so.11'; dlerror: libcusparse.so.11: cannot open shared object file: No such file or directory\n",
      "2022-05-18 19:40:07.731359: W tensorflow/stream_executor/platform/default/dso_loader.cc:64] Could not load dynamic library 'libcudnn.so.8'; dlerror: libcudnn.so.8: cannot open shared object file: No such file or directory\n",
      "2022-05-18 19:40:07.731366: W tensorflow/core/common_runtime/gpu/gpu_device.cc:1850] Cannot dlopen some GPU libraries. Please make sure the missing libraries mentioned above are installed properly if you would like to use GPU. Follow the guide at https://www.tensorflow.org/install/gpu for how to download and setup the required libraries for your platform.\n",
      "Skipping registering GPU devices...\n",
      "2022-05-18 19:40:07.731642: I tensorflow/core/platform/cpu_feature_guard.cc:193] This TensorFlow binary is optimized with oneAPI Deep Neural Network Library (oneDNN) to use the following CPU instructions in performance-critical operations:  AVX2 FMA\n",
      "To enable them in other operations, rebuild TensorFlow with the appropriate compiler flags.\n"
     ]
    }
   ],
   "source": [
    "def loadDataset():\n",
    "    train_ds = image_dataset_from_directory(\n",
    "        PATH_DATASET_TRAIN,\n",
    "        labels = 'inferred',\n",
    "        label_mode='binary',\n",
    "        color_mode=COLOR_MODE,\n",
    "        image_size=(IMG_HEIGHT,IMG_WIDTH)\n",
    "    )\n",
    "\n",
    "    return train_ds.unbatch()\n",
    "train_ds = loadDataset()"
   ]
  },
  {
   "cell_type": "code",
   "execution_count": 7,
   "metadata": {},
   "outputs": [],
   "source": [
    "def formatDataset(dataset):\n",
    "    X = []\n",
    "    Y = []\n",
    "    for img,label in dataset.as_numpy_iterator():\n",
    "        imgData = np.array([row.flatten() for row in img])\n",
    "        X.append(imgData.flatten())\n",
    "        Y.append(label[0])\n",
    "    X = np.array(X)\n",
    "    Y = np.array(Y)\n",
    "    return X/255,Y"
   ]
  },
  {
   "cell_type": "markdown",
   "metadata": {},
   "source": [
    "We use the tensorflow library to get the data and then use the function formatDataset to return numpy arrays to use for the models training:\n",
    "\n",
    "- Returns a numpy array with shape (40000,28,28) \n",
    "    - 40000 rows equals the 40000 images\n",
    "    - Inside each row is the information of the image after being loaded\n",
    "- Also returns another numpy array with shape (40000,1), which the label corresponding to each image\n",
    "    - Label 0 --> **FAKE**\n",
    "    - Label 1 --> **REAL**"
   ]
  },
  {
   "cell_type": "markdown",
   "metadata": {},
   "source": [
    "# **Data Dimension Reduction**\n",
    "\n",
    "### Principal Component Analysis\n",
    "\n",
    "- Linear dimensionality reduction technique for extracting information from a high-dimensional space by projecting it into a lower-dimensional sub-space.\n",
    "- Speeds up your machine learning algorithm's training and testing time considering your data has a lot of features, and the ML algorithm's learning is too slow."
   ]
  },
  {
   "cell_type": "code",
   "execution_count": 8,
   "metadata": {},
   "outputs": [],
   "source": [
    "from sklearn.decomposition import PCA"
   ]
  },
  {
   "cell_type": "code",
   "execution_count": 9,
   "metadata": {},
   "outputs": [
    {
     "name": "stdout",
     "output_type": "stream",
     "text": [
      "Explained Variance Ratio 0.9138805486727506\n"
     ]
    }
   ],
   "source": [
    "X,Y = formatDataset(train_ds)\n",
    "totImages = Y.shape[0]\n",
    "\n",
    "pca = PCA(n_components=100)\n",
    "X_pca = pca.fit_transform(X)\n",
    "print('Explained Variance Ratio',sum(pca.explained_variance_ratio_))\n"
   ]
  },
  {
   "cell_type": "markdown",
   "metadata": {},
   "source": [
    "# Data Splitting\n",
    "\n",
    "## Train - Validation/Test\n",
    "\n",
    "In this case the validation Ratio is according to the rest of the first split\n",
    "\n",
    "Example: \n",
    "    - valRatio = 0.5; testRatio = 0.4\n",
    "    - Then 0.5*0.4 = 0.2 so in reality the validation ratio is 20%"
   ]
  },
  {
   "cell_type": "code",
   "execution_count": 10,
   "metadata": {},
   "outputs": [],
   "source": [
    "def TVT(X,Y,testRatio,valRatio):\n",
    "    X_test, X_val, Y_test, Y_val = train_test_split(X_val, Y_val, test_size=valRatio, random_state=13)\n",
    "    return X_train,X_val,X_test,Y_train,Y_val,Y_test"
   ]
  },
  {
   "cell_type": "code",
   "execution_count": 11,
   "metadata": {},
   "outputs": [
    {
     "data": {
      "image/png": "[encoded data removed]",
      "text/plain": [
       "<Figure size 432x288 with 1 Axes>"
      ]
     },
     "metadata": {
      "needs_background": "light"
     },
     "output_type": "display_data"
    }
   ],
   "source": [
    "#X_train,X_val,X_test,Y_train,Y_val,Y_test = TVT(X,Y,0.4,0.5)\n",
    "X_train, X_val, Y_train, Y_val = train_test_split(X_pca, Y, test_size=0.4, random_state=13)\n",
    "freqs = [Y_train.shape[0],Y_val.shape[0]]\n",
    "\n",
    "plt.bar([f'Train {(freqs[0]/totImages)*100}%',f'Validation {freqs[1]/totImages*100}'],freqs)\n",
    "plt.title('Train-Validation/Test Distribution')\n",
    "plt.show()"
   ]
  },
  {
   "cell_type": "markdown",
   "metadata": {},
   "source": [
    "# **Models Prediction Analysis**\n",
    "\n",
    "### Support Vector Macinhe (SVM)\n",
    "\n",
    "- SVM's are algorithms commonly used for supervised machine learning models. \n",
    "- High degree of accuracy compared to other classification algorithms such as **K-Nearest Neighbour**\n",
    "- Separate data into different classes of data by using a hyperplane, supported by the use of **support vectors**\n",
    "- **Kernel** function transforms the data into a higher dimension\n",
    "    - Example: <u>Negative sum of the squares</u> of the coordinates for each of these values and have that equal the third dimension of the data\n",
    "- **Paramter Testing**:\n",
    "    - Kernel\n",
    "    - C = Regularization parameter\n",
    "    - \n",
    "\n",
    "Implementation Code docs: https://scikit-learn.org/stable/modules/generated/sklearn.svm.SVC.html\n",
    "### Artificial Neural Networks (MLP)\n",
    "- Capable of learning any <u>non-linear</u> function\n",
    "- Cannot capture sequential information in the input data which is required for dealing with sequence data\n",
    "- Consists of 3 layers – Input, Hidden and Output\n",
    "- The architeture is called Multi Layer Perceptron(MLP) a group of multiple perceptrons/neurons at each layer\n",
    "- Solve problems related to: Tabular data, Image data and Text data\n",
    "- **Paramter Testing**:\n",
    "    - Learning Rate\n",
    "    - Activation function\n",
    "\n",
    "Implementation Code docs: https://scikit-learn.org/stable/modules/generated/sklearn.neural_network.MLPClassifier.html\n",
    "\n",
    "Now, let us see how to overcome the limitations of MLP usinng the architecture of Convolution Neural Networks (CNN). \n",
    "Recurrent Neural Networks (RNN) will not be used in this project\n",
    "\n",
    "### Convulotinary Neural Networks(CNN):\n",
    "- Building blocks of CNNs are filters a.k.a. kernels, that are used to extract the relevant features from the input using the convolution operation.\n",
    "- Learns the filters automatically without mentioning it explicitly. These filters help in extracting the right and relevant features from the input data\n",
    "- Captures the spatial features from an image. Spatial features refer to the arrangement of pixels and the relationship between them in an image.\n",
    "- Also follows the concept of parameter sharing. A single filter is applied across different parts of an input to produce a feature map\n",
    "- **Paramter Testing**:\n",
    "    \n"
   ]
  },
  {
   "cell_type": "code",
   "execution_count": 13,
   "metadata": {},
   "outputs": [],
   "source": [
    "from sklearn.svm import SVC\n",
    "from sklearn.neural_network import MLPClassifier as MLP\n",
    "from sklearn.model_selection import GridSearchCV\n",
    "import pandas as pd\n",
    "\n",
    "metrics = ['precision','recall','accuracy','roc_auc']\n",
    "columns = ['mean_test_accuracy','std_test_accuracy','mean_test_precision','std_test_precision','mean_test_recall','std_test_recall','mean_test_roc_auc','std_test_roc_auc']\n",
    "\n",
    "def modelMetricsParams(name,model):\n",
    "    sets_model = {}\n",
    "    df = pd.DataFrame(columns = columns)\n",
    "    modelResults = model.cv_results_\n",
    "    setParams = modelResults['params']\n",
    "    for i in range(len(setParams)):\n",
    "        row = []\n",
    "        for col in columns:\n",
    "            row.append(modelResults[col][i])\n",
    "        indexModel = f'{name}{i+1}'\n",
    "        df.loc[indexModel] = row\n",
    "        sets_model.update({indexModel:setParams[i]})\n",
    "    return df,sets_model"
   ]
  },
  {
   "cell_type": "markdown",
   "metadata": {},
   "source": [
    "### Evaluation Metrics:\n",
    "- Accuracy:\n",
    "- Precision:\n",
    "- Recall:\n",
    "- ROC_AUC:"
   ]
  },
  {
   "cell_type": "code",
   "execution_count": 10,
   "metadata": {},
   "outputs": [],
   "source": [
    "#C = 0.01,0.1,10\n",
    "params_SVM = {'kernel':['linear','poly','rbf']}\n",
    "\n",
    "svmModel = GridSearchCV(SVC(),params_SVM,scoring = metrics,refit = False)\n",
    "\n",
    "print(X_train.shape)\n",
    "svmModel.fit(X_train,Y_train)\n",
    "df_SVM,sets_SVM = modelMetricsParams('SVM',svmModel)"
   ]
  },
  {
   "cell_type": "code",
   "execution_count": null,
   "metadata": {},
   "outputs": [
    {
     "data": {
      "text/html": [
       "<div>\n",
       "<style scoped>\n",
       "    .dataframe tbody tr th:only-of-type {\n",
       "        vertical-align: middle;\n",
       "    }\n",
       "\n",
       "    .dataframe tbody tr th {\n",
       "        vertical-align: top;\n",
       "    }\n",
       "\n",
       "    .dataframe thead th {\n",
       "        text-align: right;\n",
       "    }\n",
       "</style>\n",
       "<table border=\"1\" class=\"dataframe\">\n",
       "  <thead>\n",
       "    <tr style=\"text-align: right;\">\n",
       "      <th></th>\n",
       "      <th>mean_test_accuracy</th>\n",
       "      <th>std_test_accuracy</th>\n",
       "      <th>mean_test_precision</th>\n",
       "      <th>std_test_precision</th>\n",
       "      <th>mean_test_recall</th>\n",
       "      <th>std_test_recall</th>\n",
       "      <th>mean_test_roc_auc</th>\n",
       "      <th>std_test_roc_auc</th>\n",
       "    </tr>\n",
       "  </thead>\n",
       "  <tbody>\n",
       "    <tr>\n",
       "      <th>SVM1</th>\n",
       "      <td>0.717792</td>\n",
       "      <td>0.006732</td>\n",
       "      <td>0.724652</td>\n",
       "      <td>0.005689</td>\n",
       "      <td>0.702765</td>\n",
       "      <td>0.009963</td>\n",
       "      <td>0.780765</td>\n",
       "      <td>0.006703</td>\n",
       "    </tr>\n",
       "    <tr>\n",
       "      <th>SVM2</th>\n",
       "      <td>0.921917</td>\n",
       "      <td>0.003863</td>\n",
       "      <td>0.925993</td>\n",
       "      <td>0.002863</td>\n",
       "      <td>0.917194</td>\n",
       "      <td>0.007148</td>\n",
       "      <td>0.973691</td>\n",
       "      <td>0.002119</td>\n",
       "    </tr>\n",
       "    <tr>\n",
       "      <th>SVM3</th>\n",
       "      <td>0.924417</td>\n",
       "      <td>0.003150</td>\n",
       "      <td>0.925750</td>\n",
       "      <td>0.005194</td>\n",
       "      <td>0.922943</td>\n",
       "      <td>0.003767</td>\n",
       "      <td>0.976747</td>\n",
       "      <td>0.001201</td>\n",
       "    </tr>\n",
       "    <tr>\n",
       "      <th>SVM4</th>\n",
       "      <td>0.509875</td>\n",
       "      <td>0.029751</td>\n",
       "      <td>0.509884</td>\n",
       "      <td>0.029540</td>\n",
       "      <td>0.513909</td>\n",
       "      <td>0.031237</td>\n",
       "      <td>0.516332</td>\n",
       "      <td>0.039273</td>\n",
       "    </tr>\n",
       "  </tbody>\n",
       "</table>\n",
       "</div>"
      ],
      "text/plain": [
       "      mean_test_accuracy  std_test_accuracy  mean_test_precision  \\\n",
       "SVM1            0.717792           0.006732             0.724652   \n",
       "SVM2            0.921917           0.003863             0.925993   \n",
       "SVM3            0.924417           0.003150             0.925750   \n",
       "SVM4            0.509875           0.029751             0.509884   \n",
       "\n",
       "      std_test_precision  mean_test_recall  std_test_recall  \\\n",
       "SVM1            0.005689          0.702765         0.009963   \n",
       "SVM2            0.002863          0.917194         0.007148   \n",
       "SVM3            0.005194          0.922943         0.003767   \n",
       "SVM4            0.029540          0.513909         0.031237   \n",
       "\n",
       "      mean_test_roc_auc  std_test_roc_auc  \n",
       "SVM1           0.780765          0.006703  \n",
       "SVM2           0.973691          0.002119  \n",
       "SVM3           0.976747          0.001201  \n",
       "SVM4           0.516332          0.039273  "
      ]
     },
     "execution_count": 101,
     "metadata": {},
     "output_type": "execute_result"
    },
    {
     "ename": "",
     "evalue": "",
     "output_type": "error",
     "traceback": [
      "\u001b[1;31mJupyter cannot be started. Error attempting to locate jupyter: Running cells with 'Python 3.8.10 64-bit' requires jupyter and notebook package.\n",
      "Run the following command to install 'jupyter and notebook' into the Python environment. \n",
      "Command: 'python -m pip install jupyter notebook -U\n",
      "or\n",
      "conda install jupyter notebook -U'\n",
      "Click <a href='https://aka.ms/installJupyterForVSCode'>here</a> for more info."
     ]
    },
    {
     "ename": "",
     "evalue": "",
     "output_type": "error",
     "traceback": [
      "\u001b[1;31mJupyter cannot be started. Error attempting to locate jupyter: Running cells with 'Python 3.8.10 64-bit' requires jupyter and notebook package.\n",
      "Run the following command to install 'jupyter and notebook' into the Python environment. \n",
      "Command: 'python -m pip install jupyter notebook -U\n",
      "or\n",
      "conda install jupyter notebook -U'\n",
      "Click <a href='https://aka.ms/installJupyterForVSCode'>here</a> for more info."
     ]
    },
    {
     "ename": "",
     "evalue": "",
     "output_type": "error",
     "traceback": [
      "\u001b[1;31mJupyter cannot be started. Error attempting to locate jupyter: Running cells with 'Python 3.8.10 64-bit' requires jupyter and notebook package.\n",
      "Run the following command to install 'jupyter and notebook' into the Python environment. \n",
      "Command: 'python -m pip install jupyter notebook -U\n",
      "or\n",
      "conda install jupyter notebook -U'\n",
      "Click <a href='https://aka.ms/installJupyterForVSCode'>here</a> for more info."
     ]
    },
    {
     "ename": "",
     "evalue": "",
     "output_type": "error",
     "traceback": [
      "\u001b[1;31mJupyter cannot be started. Error attempting to locate jupyter: Running cells with 'Python 3.8.10 64-bit' requires jupyter and notebook package.\n",
      "Run the following command to install 'jupyter and notebook' into the Python environment. \n",
      "Command: 'python -m pip install jupyter notebook -U\n",
      "or\n",
      "conda install jupyter notebook -U'\n",
      "Click <a href='https://aka.ms/installJupyterForVSCode'>here</a> for more info."
     ]
    },
    {
     "ename": "",
     "evalue": "",
     "output_type": "error",
     "traceback": [
      "\u001b[1;31mJupyter cannot be started. Error attempting to locate jupyter: Running cells with 'Python 3.8.10 64-bit' requires jupyter and notebook package.\n",
      "Run the following command to install 'jupyter and notebook' into the Python environment. \n",
      "Command: 'python -m pip install jupyter notebook -U\n",
      "or\n",
      "conda install jupyter notebook -U'\n",
      "Click <a href='https://aka.ms/installJupyterForVSCode'>here</a> for more info."
     ]
    },
    {
     "ename": "",
     "evalue": "",
     "output_type": "error",
     "traceback": [
      "\u001b[1;31mJupyter cannot be started. Error attempting to locate jupyter: Running cells with 'Python 3.8.10 64-bit' requires jupyter and notebook package.\n",
      "Run the following command to install 'jupyter and notebook' into the Python environment. \n",
      "Command: 'python -m pip install jupyter notebook -U\n",
      "or\n",
      "conda install jupyter notebook -U'\n",
      "Click <a href='https://aka.ms/installJupyterForVSCode'>here</a> for more info."
     ]
    },
    {
     "ename": "",
     "evalue": "",
     "output_type": "error",
     "traceback": [
      "\u001b[1;31mRunning cells with 'Python 3.8.10 64-bit' requires ipykernel package.\n",
      "Run the following command to install 'ipykernel' into the Python environment. \n",
      "Command: '/usr/bin/python3 -m pip install ipykernel -U --user --force-reinstall'"
     ]
    }
   ],
   "source": [
    "df_SVM"
   ]
  },
  {
   "cell_type": "code",
   "execution_count": null,
   "metadata": {},
   "outputs": [
    {
     "name": "stdout",
     "output_type": "stream",
     "text": [
      "Best recall: 0.9229425933638762\n",
      "Model SVM3 with the parameters: {'kernel': 'rbf'}\n",
      "\n",
      "Best precision: 0.9259931003952444\n",
      "Model SVM2 with the parameters: {'kernel': 'poly'}\n",
      "\n",
      "Best precision: 0.9244166666666669\n",
      "Model SVM3 with the parameters: {'kernel': 'rbf'}\n",
      "\n",
      "Best precision: 0.976746941219696\n",
      "Model SVM3 with the parameters: {'kernel': 'rbf'}\n",
      "\n"
     ]
    },
    {
     "ename": "",
     "evalue": "",
     "output_type": "error",
     "traceback": [
      "\u001b[1;31mJupyter cannot be started. Error attempting to locate jupyter: Running cells with 'Python 3.8.10 64-bit' requires jupyter and notebook package.\n",
      "Run the following command to install 'jupyter and notebook' into the Python environment. \n",
      "Command: 'python -m pip install jupyter notebook -U\n",
      "or\n",
      "conda install jupyter notebook -U'\n",
      "Click <a href='https://aka.ms/installJupyterForVSCode'>here</a> for more info."
     ]
    },
    {
     "ename": "",
     "evalue": "",
     "output_type": "error",
     "traceback": [
      "\u001b[1;31mJupyter cannot be started. Error attempting to locate jupyter: Running cells with 'Python 3.8.10 64-bit' requires jupyter and notebook package.\n",
      "Run the following command to install 'jupyter and notebook' into the Python environment. \n",
      "Command: 'python -m pip install jupyter notebook -U\n",
      "or\n",
      "conda install jupyter notebook -U'\n",
      "Click <a href='https://aka.ms/installJupyterForVSCode'>here</a> for more info."
     ]
    },
    {
     "ename": "",
     "evalue": "",
     "output_type": "error",
     "traceback": [
      "\u001b[1;31mJupyter cannot be started. Error attempting to locate jupyter: Running cells with 'Python 3.8.10 64-bit' requires jupyter and notebook package.\n",
      "Run the following command to install 'jupyter and notebook' into the Python environment. \n",
      "Command: 'python -m pip install jupyter notebook -U\n",
      "or\n",
      "conda install jupyter notebook -U'\n",
      "Click <a href='https://aka.ms/installJupyterForVSCode'>here</a> for more info."
     ]
    },
    {
     "ename": "",
     "evalue": "",
     "output_type": "error",
     "traceback": [
      "\u001b[1;31mJupyter cannot be started. Error attempting to locate jupyter: Running cells with 'Python 3.8.10 64-bit' requires jupyter and notebook package.\n",
      "Run the following command to install 'jupyter and notebook' into the Python environment. \n",
      "Command: 'python -m pip install jupyter notebook -U\n",
      "or\n",
      "conda install jupyter notebook -U'\n",
      "Click <a href='https://aka.ms/installJupyterForVSCode'>here</a> for more info."
     ]
    },
    {
     "ename": "",
     "evalue": "",
     "output_type": "error",
     "traceback": [
      "\u001b[1;31mJupyter cannot be started. Error attempting to locate jupyter: Running cells with 'Python 3.8.10 64-bit' requires jupyter and notebook package.\n",
      "Run the following command to install 'jupyter and notebook' into the Python environment. \n",
      "Command: 'python -m pip install jupyter notebook -U\n",
      "or\n",
      "conda install jupyter notebook -U'\n",
      "Click <a href='https://aka.ms/installJupyterForVSCode'>here</a> for more info."
     ]
    },
    {
     "ename": "",
     "evalue": "",
     "output_type": "error",
     "traceback": [
      "\u001b[1;31mJupyter cannot be started. Error attempting to locate jupyter: Running cells with 'Python 3.8.10 64-bit' requires jupyter and notebook package.\n",
      "Run the following command to install 'jupyter and notebook' into the Python environment. \n",
      "Command: 'python -m pip install jupyter notebook -U\n",
      "or\n",
      "conda install jupyter notebook -U'\n",
      "Click <a href='https://aka.ms/installJupyterForVSCode'>here</a> for more info."
     ]
    },
    {
     "ename": "",
     "evalue": "",
     "output_type": "error",
     "traceback": [
      "\u001b[1;31mRunning cells with 'Python 3.8.10 64-bit' requires ipykernel package.\n",
      "Run the following command to install 'ipykernel' into the Python environment. \n",
      "Command: '/usr/bin/python3 -m pip install ipykernel -U --user --force-reinstall'"
     ]
    }
   ],
   "source": [
    "best_recall_svm = max(df_SVM['mean_test_recall'])\n",
    "svm_name = df_SVM['mean_test_recall'].idxmax()\n",
    "\n",
    "print(f'Best recall: {best_recall_svm}\\nModel {svm_name} with the parameters: {sets_SVM[svm_name]}\\n')\n",
    "\n",
    "best_precision_svm = max(df_SVM['mean_test_precision'])\n",
    "svm_name = df_SVM['mean_test_precision'].idxmax()\n",
    "print(f'Best precision: {best_precision_svm}\\nModel {svm_name} with the parameters: {sets_SVM[svm_name]}\\n')\n",
    "\n",
    "best_accuracy_svm = max(df_SVM['mean_test_accuracy'])\n",
    "svm_name = df_SVM['mean_test_accuracy'].idxmax()\n",
    "print(f'Best accuracy: {best_accuracy_svm}\\nModel {svm_name} with the parameters: {sets_SVM[svm_name]}\\n')\n",
    "\n",
    "best_roc_auc_svm = max(df_SVM['mean_test_roc_auc'])\n",
    "svm_name = df_SVM['mean_test_roc_auc'].idxmax()\n",
    "print(f'Best ROC_AUC: {best_roc_auc_svm}\\nModel {svm_name} with the parameters: {sets_SVM[svm_name]}\\n')"
   ]
  },
  {
   "cell_type": "code",
   "execution_count": null,
   "metadata": {},
   "outputs": [],
   "source": [
    "params_MLP = {'activation':['identity', 'logistic', 'tanh', 'relu']}\n",
    "mlpModel = GridSearchCV(MLP(),params_MLP,scoring = metrics,refit = False)\n",
    "\n",
    "mlpModel.fit(X_train,Y_train)\n",
    "df_MLP,sets_MLP = modelMetricsParams('MLP',mlpModel)"
   ]
  },
  {
   "cell_type": "markdown",
   "metadata": {},
   "source": [
    "# Ensembles\n",
    "\n",
    "It's a machine learning technique that combines several base models in order to produce one optimal predictive model.\n",
    "\n",
    "The three main classes of ensemble learning methods:\n",
    "- **Bagging**\n",
    "- **Stacking**\n",
    "- **Boosting**\n",
    "\n",
    "### Bagging\n",
    "- <u>Bootstrap aggregation</u>, or bagging for short, is an ensemble learning method that seeks a diverse group of ensemble members by varying the training data.\n",
    "- Typically involves using a single machine learning algorithm, and training each model on a different sample of the same training dataset. \n",
    "- Predictions made by the ensemble members are then combined using simple statistics, such as voting or averaging."
   ]
  },
  {
   "cell_type": "code",
   "execution_count": 26,
   "metadata": {},
   "outputs": [],
   "source": [
    "from sklearn.linear_model import LogisticRegression\n",
    "from sklearn.tree import DecisionTreeClassifier\n",
    "from sklearn.ensemble import RandomForestClassifier\n",
    "from sklearn.neighbors import KNeighborsClassifier\n",
    "from sklearn.naive_bayes import GaussianNB\n",
    "from sklearn.metrics import accuracy_score,precision_score,recall_score,roc_auc_score \n",
    "\n",
    "seed = 10\n",
    "num_trees = 100"
   ]
  },
  {
   "cell_type": "code",
   "execution_count": 27,
   "metadata": {},
   "outputs": [],
   "source": [
    "models = {}\n",
    "models.update({'LR': LogisticRegression(random_state=seed)})\n",
    "models.update({'KNN': KNeighborsClassifier()})\n",
    "models.update({'DT': DecisionTreeClassifier(random_state=seed)})\n",
    "models.update({'RF': RandomForestClassifier(n_estimators=num_trees, random_state=seed)})\n",
    "models.update({'NB': GaussianNB()})\n",
    "models.update({'SVM': SVC(random_state=seed)})"
   ]
  },
  {
   "cell_type": "code",
   "execution_count": 28,
   "metadata": {},
   "outputs": [],
   "source": [
    "# results = []\n",
    "# for name, model in models:\n",
    "#     print(name, model)\n",
    "#     kfold = KFold(n_splits=10, random_state=seed,shuffle = True)\n",
    "#     cv_results = cross_val_score(model, X_train_features, y_train, cv=kfold, scoring=scoring)\n",
    "#     results.append(cv_results)\n",
    "#     names.append(name)\n",
    "#     msg = \"%s: %f (%f)\" % (name, cv_results.mean(), cv_results.std())\n",
    "#     print(msg)"
   ]
  },
  {
   "cell_type": "code",
   "execution_count": 29,
   "metadata": {},
   "outputs": [
    {
     "name": "stdout",
     "output_type": "stream",
     "text": [
      "Training LR\n",
      "Training KNN\n",
      "Training DT\n",
      "Training RF\n",
      "Training NB\n",
      "Training SVM\n"
     ]
    }
   ],
   "source": [
    "for name, model in models.items():\n",
    "    print(f\"Training {name}\")\n",
    "    model.fit(X_train,Y_train)"
   ]
  },
  {
   "cell_type": "code",
   "execution_count": 30,
   "metadata": {},
   "outputs": [
    {
     "name": "stdout",
     "output_type": "stream",
     "text": [
      "Validating LR\n",
      "Validating KNN\n",
      "Validating DT\n",
      "Validating RF\n",
      "Validating NB\n",
      "Validating SVM\n"
     ]
    }
   ],
   "source": [
    "df_predictions = pd.DataFrame()\n",
    "for name, model in models.items():\n",
    "    print(f\"Validating {name}\") \n",
    "    df_predictions[name] = model.predict(X_val)"
   ]
  },
  {
   "cell_type": "code",
   "execution_count": 31,
   "metadata": {},
   "outputs": [
    {
     "data": {
      "text/html": [
       "<div>\n",
       "<style scoped>\n",
       "    .dataframe tbody tr th:only-of-type {\n",
       "        vertical-align: middle;\n",
       "    }\n",
       "\n",
       "    .dataframe tbody tr th {\n",
       "        vertical-align: top;\n",
       "    }\n",
       "\n",
       "    .dataframe thead th {\n",
       "        text-align: right;\n",
       "    }\n",
       "</style>\n",
       "<table border=\"1\" class=\"dataframe\">\n",
       "  <thead>\n",
       "    <tr style=\"text-align: right;\">\n",
       "      <th></th>\n",
       "      <th>LR</th>\n",
       "      <th>KNN</th>\n",
       "      <th>DT</th>\n",
       "      <th>RF</th>\n",
       "      <th>NB</th>\n",
       "      <th>SVM</th>\n",
       "      <th>real</th>\n",
       "    </tr>\n",
       "  </thead>\n",
       "  <tbody>\n",
       "    <tr>\n",
       "      <th>0</th>\n",
       "      <td>0.0</td>\n",
       "      <td>0.0</td>\n",
       "      <td>0.0</td>\n",
       "      <td>0.0</td>\n",
       "      <td>0.0</td>\n",
       "      <td>1.0</td>\n",
       "      <td>0.0</td>\n",
       "    </tr>\n",
       "    <tr>\n",
       "      <th>1</th>\n",
       "      <td>0.0</td>\n",
       "      <td>0.0</td>\n",
       "      <td>0.0</td>\n",
       "      <td>0.0</td>\n",
       "      <td>0.0</td>\n",
       "      <td>0.0</td>\n",
       "      <td>0.0</td>\n",
       "    </tr>\n",
       "    <tr>\n",
       "      <th>2</th>\n",
       "      <td>0.0</td>\n",
       "      <td>0.0</td>\n",
       "      <td>0.0</td>\n",
       "      <td>0.0</td>\n",
       "      <td>0.0</td>\n",
       "      <td>0.0</td>\n",
       "      <td>0.0</td>\n",
       "    </tr>\n",
       "    <tr>\n",
       "      <th>3</th>\n",
       "      <td>0.0</td>\n",
       "      <td>0.0</td>\n",
       "      <td>1.0</td>\n",
       "      <td>0.0</td>\n",
       "      <td>1.0</td>\n",
       "      <td>0.0</td>\n",
       "      <td>0.0</td>\n",
       "    </tr>\n",
       "    <tr>\n",
       "      <th>4</th>\n",
       "      <td>0.0</td>\n",
       "      <td>1.0</td>\n",
       "      <td>1.0</td>\n",
       "      <td>1.0</td>\n",
       "      <td>0.0</td>\n",
       "      <td>0.0</td>\n",
       "      <td>1.0</td>\n",
       "    </tr>\n",
       "  </tbody>\n",
       "</table>\n",
       "</div>"
      ],
      "text/plain": [
       "    LR  KNN   DT   RF   NB  SVM  real\n",
       "0  0.0  0.0  0.0  0.0  0.0  1.0   0.0\n",
       "1  0.0  0.0  0.0  0.0  0.0  0.0   0.0\n",
       "2  0.0  0.0  0.0  0.0  0.0  0.0   0.0\n",
       "3  0.0  0.0  1.0  0.0  1.0  0.0   0.0\n",
       "4  0.0  1.0  1.0  1.0  0.0  0.0   1.0"
      ]
     },
     "execution_count": 31,
     "metadata": {},
     "output_type": "execute_result"
    }
   ],
   "source": [
    "df_predictions['real'] = Y_val\n",
    "df_predictions.head()"
   ]
  },
  {
   "cell_type": "code",
   "execution_count": 32,
   "metadata": {},
   "outputs": [],
   "source": [
    "def getMetrics(pred):\n",
    "    precision = precision_score(pred,Y_val)\n",
    "    accuracy = accuracy_score(pred,Y_val)\n",
    "    recall = recall_score(pred,Y_val)\n",
    "    roc_auc = roc_auc_score(pred,Y_val)\n",
    "\n",
    "    return [accuracy, precision, recall, roc_auc]"
   ]
  },
  {
   "cell_type": "code",
   "execution_count": 35,
   "metadata": {},
   "outputs": [],
   "source": [
    "emsemble_table = df_predictions.drop(columns =[\"real\"])\n",
    "\n",
    "def emsemble_algorithm(w = None):\n",
    "    emsemble_predict = []\n",
    "    for r in range(len(emsemble_table)):\n",
    "        vote = {0:0,1:0}\n",
    "        for i in range(len(models)):\n",
    "            voted = emsemble_table.iloc[r][i]\n",
    "            if w is not None:\n",
    "                vote[voted]+=w[i]\n",
    "            else:\n",
    "                vote[voted] +=1\n",
    "        emsemble_predict.append(max(vote, key=vote.get))\n",
    "    emsemble_predict = np.array(emsemble_predict)\n",
    "    return emsemble_predict"
   ]
  },
  {
   "cell_type": "code",
   "execution_count": 37,
   "metadata": {},
   "outputs": [
    {
     "data": {
      "text/html": [
       "<div>\n",
       "<style scoped>\n",
       "    .dataframe tbody tr th:only-of-type {\n",
       "        vertical-align: middle;\n",
       "    }\n",
       "\n",
       "    .dataframe tbody tr th {\n",
       "        vertical-align: top;\n",
       "    }\n",
       "\n",
       "    .dataframe thead th {\n",
       "        text-align: right;\n",
       "    }\n",
       "</style>\n",
       "<table border=\"1\" class=\"dataframe\">\n",
       "  <thead>\n",
       "    <tr style=\"text-align: right;\">\n",
       "      <th></th>\n",
       "      <th>accuracy</th>\n",
       "      <th>precision</th>\n",
       "      <th>recall</th>\n",
       "      <th>roc_auc</th>\n",
       "    </tr>\n",
       "  </thead>\n",
       "  <tbody>\n",
       "    <tr>\n",
       "      <th>Majority</th>\n",
       "      <td>0.874875</td>\n",
       "      <td>0.816604</td>\n",
       "      <td>0.924654</td>\n",
       "      <td>0.880039</td>\n",
       "    </tr>\n",
       "  </tbody>\n",
       "</table>\n",
       "</div>"
      ],
      "text/plain": [
       "          accuracy  precision    recall   roc_auc\n",
       "Majority  0.874875   0.816604  0.924654  0.880039"
      ]
     },
     "execution_count": 37,
     "metadata": {},
     "output_type": "execute_result"
    }
   ],
   "source": [
    "df_ensembles = pd.DataFrame(columns = ['accuracy','precision','recall','roc_auc'])\n",
    "df_ensembles.loc['Majority'] = getMetrics(emsemble_algorithm())\n",
    "df_ensembles"
   ]
  },
  {
   "cell_type": "markdown",
   "metadata": {},
   "source": [
    "# References \n",
    "- SVM: https://datagy.io/python-support-vector-machines/\n",
    "- ANN: https://www.analyticsvidhya.com/blog/2020/02/cnn-vs-rnn-vs-mlp-analyzing-3-types-of-neural-networks-in-deep-learning/\n",
    "- PCA: https://www.datacamp.com/tutorial/principal-component-analysis-in-python\n",
    "- Ensembles: https://towardsdatascience.com/ensemble-methods-in-machine-learning-what-are-they-and-why-use-them-68ec3f9fef5f"
   ]
  }
 ],
 "metadata": {
  "interpreter": {
   "hash": "8a5fbe8cb5cc1a03cb25eded4a178f5b2375d1f67a91d9123158ccb67b199f7d"
  },
  "kernelspec": {
   "display_name": "Python 3.9.12 ('deep_learning')",
   "language": "python",
   "name": "python3"
  },
  "language_info": {
   "codemirror_mode": {
    "name": "ipython",
    "version": 3
   },
   "file_extension": ".py",
   "mimetype": "text/x-python",
   "name": "python",
   "nbconvert_exporter": "python",
   "pygments_lexer": "ipython3",
   "version": "3.9.12"
  },
  "orig_nbformat": 4
 },
 "nbformat": 4,
 "nbformat_minor": 2
}
