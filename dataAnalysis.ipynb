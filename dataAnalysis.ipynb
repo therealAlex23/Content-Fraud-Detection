{
 "cells": [
  {
   "cell_type": "markdown",
   "metadata": {},
   "source": [
    "# Image Fraud Detection Algorithm Analysis"
   ]
  },
  {
   "cell_type": "code",
   "execution_count": 17,
   "metadata": {},
   "outputs": [],
   "source": [
    "import numpy as np\n",
    "import os\n",
    "import matplotlib.pyplot as plt\n",
    "from sklearn.model_selection import train_test_split\n",
    "from tensorflow.keras.utils import image_dataset_from_directory\n",
    "import tensorflow as tf\n",
    "from tensorflow.keras.preprocessing import image\n",
    "\n",
    "DIR = os.getcwd()\n",
    "IMG_WIDTH = 28\n",
    "IMG_HEIGHT = 28\n",
    "IMG_PIXELS = IMG_HEIGHT*IMG_WIDTH\n",
    "COLOR_MODE = 'grayscale'\n",
    "PATH_DATASET_TRAIN = \"Datasets/dataset_train/\""
   ]
  },
  {
   "cell_type": "code",
   "execution_count": 18,
   "metadata": {},
   "outputs": [],
   "source": [
    "plt.rcParams['figure.figsize'] = (15,12)"
   ]
  },
  {
   "cell_type": "markdown",
   "metadata": {},
   "source": [
    "## Data Loading\n",
    "\n",
    "Loading a total of 40000 images with 28x28 pixels and grayscale as the color mode. The division is as the following:\n",
    "\n",
    "- 20000 real images\n",
    "- 20000 fake images\n"
   ]
  },
  {
   "cell_type": "code",
   "execution_count": 19,
   "metadata": {},
   "outputs": [
    {
     "name": "stdout",
     "output_type": "stream",
     "text": [
      "Found 40000 files belonging to 2 classes.\n"
     ]
    }
   ],
   "source": [
    "def loadDataset():\n",
    "    train_ds = image_dataset_from_directory(\n",
    "        PATH_DATASET_TRAIN,\n",
    "        labels = 'inferred',\n",
    "        label_mode='binary',\n",
    "        color_mode=COLOR_MODE,\n",
    "        image_size=(IMG_HEIGHT,IMG_WIDTH)\n",
    "    )\n",
    "\n",
    "    return train_ds.unbatch()\n",
    "\n",
    "train_ds = loadDataset()"
   ]
  },
  {
   "cell_type": "code",
   "execution_count": 23,
   "metadata": {},
   "outputs": [],
   "source": [
    "def formatDataset(dataset):\n",
    "    X = []\n",
    "    Y = []\n",
    "    for img,label in dataset.as_numpy_iterator():\n",
    "        imgData = np.array([row.flatten() for row in img])\n",
    "        X.append(imgData.flatten())\n",
    "        Y.append(label[0])\n",
    "    X = np.array(X)\n",
    "    Y = np.array(Y)\n",
    "    return X/255,Y"
   ]
  },
  {
   "cell_type": "markdown",
   "metadata": {},
   "source": [
    "We use the tensorflow library to get the data and then use the function formatDataset to return numpy arrays to use for the models training:\n",
    "\n",
    "- Returns a numpy array with shape (40000,28,28) \n",
    "    - 40000 rows equals the 40000 images\n",
    "    - Inside each row is the information of the image after being loaded\n",
    "- Also returns another numpy array with shape (40000,1), which the label corresponding to each image\n",
    "    - Label 0 --> **FAKE**\n",
    "    - Label 1 --> **REAL**"
   ]
  },
  {
   "cell_type": "markdown",
   "metadata": {},
   "source": [
    "# Feature Extraction"
   ]
  },
  {
   "cell_type": "markdown",
   "metadata": {},
   "source": [
    "## Edge Features"
   ]
  },
  {
   "cell_type": "code",
   "execution_count": null,
   "metadata": {},
   "outputs": [],
   "source": []
  },
  {
   "cell_type": "markdown",
   "metadata": {},
   "source": [
    "# Data Splitting\n",
    "\n",
    "## Train - Validation - Test\n",
    "\n",
    "In this case the validation Ratio is according to the rest of the first split\n",
    "\n",
    "Example: \n",
    "    - valRatio = 0.5; testRatio = 0.4\n",
    "    - Then 0.5*0.4 = 0.2 so in reality the validation ratio is 20%"
   ]
  },
  {
   "cell_type": "code",
   "execution_count": 21,
   "metadata": {},
   "outputs": [],
   "source": [
    "def TVT(X,Y,testRatio,valRatio):\n",
    "    X_train, X_val, Y_train, Y_val = train_test_split(X, Y, test_size=testRatio, random_state=13)\n",
    "    X_test, X_val, Y_test, Y_val = train_test_split(X_val, Y_val, test_size=valRatio, random_state=13)\n",
    "    return X_train,X_val,X_test,Y_train,Y_val,Y_test"
   ]
  },
  {
   "cell_type": "markdown",
   "metadata": {},
   "source": [
    "## K-Fold Splitting"
   ]
  },
  {
   "cell_type": "code",
   "execution_count": 25,
   "metadata": {},
   "outputs": [
    {
     "data": {
      "image/png": "[encoded data removed]",
      "text/plain": [
       "<Figure size 1080x864 with 1 Axes>"
      ]
     },
     "metadata": {
      "needs_background": "light"
     },
     "output_type": "display_data"
    }
   ],
   "source": [
    "X,Y = formatDataset(train_ds)\n",
    "totImages = Y.shape[0]\n",
    "\n",
    "X_train,X_val,X_test,Y_train,Y_val,Y_test = TVT(X,Y,0.4,0.5)\n",
    "freqs = [Y_train.shape[0],Y_val.shape[0],Y_test.shape[0]]\n",
    "\n",
    "plt.bar([f'Train {(freqs[0]/totImages)*100}%',f'Validation {freqs[1]/totImages*100}%',f'Test {freqs[2]/totImages*100}%'],freqs)\n",
    "plt.title('Train-Validation-Test Distribution')\n",
    "plt.show()"
   ]
  },
  {
   "cell_type": "markdown",
   "metadata": {},
   "source": [
    "# **Models Prediction Analysis**\n",
    "\n",
    "### Support Vector Macinhe (SVM)\n",
    "\n",
    "- SVM's are algorithms commonly used for supervised machine learning models. \n",
    "- High degree of accuracy compared to other classification algorithms such as **K-Nearest Neighbour**\n",
    "- Separate data into different classes of data by using a hyperplane, supported by the use of **support vectors**\n",
    "- **Kernel** function transforms the data into a higher dimension\n",
    "    - Types of function: linear, polynomial,rbf (Radial Basis Function) ,sigmoid\n",
    "    - Example: <u>Negative sum of the squares</u> of the coordinates for each of these values and have that equal the third dimension of the data\n",
    "\n",
    "\n",
    "### Artificial Neural Networks (MLP)\n"
   ]
  },
  {
   "cell_type": "code",
   "execution_count": 26,
   "metadata": {},
   "outputs": [],
   "source": [
    "from sklearn.svm import SVC\n",
    "from sklearn.neural_network import MLPClassifier\n",
    "from sklearn.model_selection import GridSearchCV,cross_val_score\n",
    "SEED = 13"
   ]
  },
  {
   "cell_type": "code",
   "execution_count": 27,
   "metadata": {},
   "outputs": [],
   "source": [
    "models = {}\n",
    "params_SVM = {'kernel':('linear','rbf','poly','sigmoid'),'C':[1,10],'random_state':[SEED]}\n",
    "params_MLP = {'learning_rate':['invscaling','adaptive'],'random_state':[SEED]}\n",
    "\n",
    "# models.update({'SVM':[SVC(random_state=SEED),\n",
    "#                         SVC(random_state=SEED,kernel = 'poly'),\n",
    "#                         SVC(random_state=SEED, kernel = 'linear'),\n",
    "#                         SVC(random_state=SEED, kernel = 'sigmoid')]})\n",
    "\n",
    "models.update({'SVM':GridSearchCV(SVC(),params_SVM)})\n",
    "\n",
    "\n",
    "# models.update({'MLP': [MLPClassifier(random_state=SEED),\n",
    "#                 MLPClassifier(learning_rate= 'invscaling',random_state=SEED),\n",
    "#                 MLPClassifier(learning_rate= 'adaptive',random_state=SEED)]})\n",
    "\n",
    "models.update({'MLP':GridSearchCV(MLPClassifier(),params_SVM)})\n",
    "#tensorFlow\n"
   ]
  },
  {
   "cell_type": "code",
   "execution_count": 28,
   "metadata": {},
   "outputs": [
    {
     "name": "stdout",
     "output_type": "stream",
     "text": [
      "(24000, 784)\n",
      "(24000,)\n"
     ]
    }
   ],
   "source": [
    "print(X_train.shape)\n",
    "print(Y_train.shape)\n",
    "for name,model in models.items():\n",
    "    model.fit(X_train,Y_train)\n",
    "    print(model.cv_results)"
   ]
  }
 ],
 "metadata": {
  "interpreter": {
   "hash": "03d10abb906f65bdf92f0cf6bf0e9e92318b3e17b5124267de62c70620d20a7d"
  },
  "kernelspec": {
   "display_name": "Python 3.8.8 ('base')",
   "language": "python",
   "name": "python3"
  },
  "language_info": {
   "codemirror_mode": {
    "name": "ipython",
    "version": 3
   },
   "file_extension": ".py",
   "mimetype": "text/x-python",
   "name": "python",
   "nbconvert_exporter": "python",
   "pygments_lexer": "ipython3",
   "version": "3.10.4"
  },
  "orig_nbformat": 4
 },
 "nbformat": 4,
 "nbformat_minor": 2
}
