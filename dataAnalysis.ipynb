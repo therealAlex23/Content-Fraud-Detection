{
 "cells": [
  {
   "cell_type": "markdown",
   "metadata": {},
   "source": [
    "# Image Fraud Detection Algorithm Analysis"
   ]
  },
  {
   "cell_type": "code",
   "execution_count": 38,
   "metadata": {},
   "outputs": [],
   "source": [
    "import numpy as np\n",
    "import os\n",
    "import matplotlib.pyplot as plt\n",
    "from sklearn.model_selection import train_test_split\n",
    "from tensorflow.keras.utils import image_dataset_from_directory\n",
    "import tensorflow as tf\n",
    "from tensorflow.keras.preprocessing import image\n",
    "\n",
    "DIR = os.getcwd()\n",
    "IMG_WIDTH = 28\n",
    "IMG_HEIGHT = 28\n",
    "IMG_PIXELS = IMG_HEIGHT*IMG_WIDTH\n",
    "COLOR_MODE = 'grayscale'\n",
    "PATH_DATASET_TRAIN = \"Datasets/dataset_train/\""
   ]
  },
  {
   "cell_type": "code",
   "execution_count": 39,
   "metadata": {},
   "outputs": [],
   "source": [
    "plt.rcParams['figure.figsize'] = (15,12)"
   ]
  },
  {
   "cell_type": "markdown",
   "metadata": {},
   "source": [
    "## Data Loading\n",
    "\n",
    "Loading a total of 40000 images with 28x28 pixels and grayscale as the color mode. The division is as the following:\n",
    "\n",
    "- 20000 real images\n",
    "- 20000 fake images\n"
   ]
  },
  {
   "cell_type": "code",
   "execution_count": 40,
   "metadata": {},
   "outputs": [
    {
     "name": "stdout",
     "output_type": "stream",
     "text": [
      "Found 40000 files belonging to 2 classes.\n"
     ]
    }
   ],
   "source": [
    "def loadDataset():\n",
    "    train_ds = image_dataset_from_directory(\n",
    "        PATH_DATASET_TRAIN,\n",
    "        labels = 'inferred',\n",
    "        label_mode='binary',\n",
    "        color_mode=COLOR_MODE,\n",
    "        image_size=(IMG_HEIGHT,IMG_WIDTH)\n",
    "    )\n",
    "\n",
    "    return train_ds.unbatch()\n",
    "train_ds = loadDataset()"
   ]
  },
  {
   "cell_type": "code",
   "execution_count": 41,
   "metadata": {},
   "outputs": [],
   "source": [
    "def formatDataset(dataset):\n",
    "    X = []\n",
    "    Y = []\n",
    "    for img,label in dataset.as_numpy_iterator():\n",
    "        imgData = np.array([row.flatten() for row in img])\n",
    "        X.append(imgData.flatten())\n",
    "        Y.append(label[0])\n",
    "    X = np.array(X)\n",
    "    Y = np.array(Y)\n",
    "    return X/255,Y"
   ]
  },
  {
   "cell_type": "markdown",
   "metadata": {},
   "source": [
    "We use the tensorflow library to get the data and then use the function formatDataset to return numpy arrays to use for the models training:\n",
    "\n",
    "- Returns a numpy array with shape (40000,28,28) \n",
    "    - 40000 rows equals the 40000 images\n",
    "    - Inside each row is the information of the image after being loaded\n",
    "- Also returns another numpy array with shape (40000,1), which the label corresponding to each image\n",
    "    - Label 0 --> **FAKE**\n",
    "    - Label 1 --> **REAL**"
   ]
  },
  {
   "cell_type": "markdown",
   "metadata": {},
   "source": [
    "# **Data Dimension Reduction**\n",
    "\n",
    "### Principal Component Analysis\n",
    "\n",
    "- Linear dimensionality reduction technique for extracting information from a high-dimensional space by projecting it into a lower-dimensional sub-space.\n",
    "- Speeds up your machine learning algorithm's training and testing time considering your data has a lot of features, and the ML algorithm's learning is too slow."
   ]
  },
  {
   "cell_type": "code",
   "execution_count": 42,
   "metadata": {},
   "outputs": [],
   "source": [
    "from sklearn.decomposition import PCA"
   ]
  },
  {
   "cell_type": "code",
   "execution_count": 43,
   "metadata": {},
   "outputs": [
    {
     "name": "stdout",
     "output_type": "stream",
     "text": [
      "Explained Variance Ratio 0.9138655085116625\n"
     ]
    }
   ],
   "source": [
    "X,Y = formatDataset(train_ds)\n",
    "totImages = Y.shape[0]\n",
    "\n",
    "pca = PCA(n_components=100)\n",
    "X_pca = pca.fit_transform(X)\n",
    "print('Explained Variance Ratio',sum(pca.explained_variance_ratio_))\n"
   ]
  },
  {
   "cell_type": "markdown",
   "metadata": {},
   "source": [
    "# Data Splitting\n",
    "\n",
    "## Train - Validation/Test\n",
    "\n",
    "In this case the validation Ratio is according to the rest of the first split\n",
    "\n",
    "Example: \n",
    "    - valRatio = 0.5; testRatio = 0.4\n",
    "    - Then 0.5*0.4 = 0.2 so in reality the validation ratio is 20%"
   ]
  },
  {
   "cell_type": "code",
   "execution_count": 44,
   "metadata": {},
   "outputs": [],
   "source": [
    "def TVT(X,Y,testRatio,valRatio):\n",
    "    X_test, X_val, Y_test, Y_val = train_test_split(X_val, Y_val, test_size=valRatio, random_state=13)\n",
    "    return X_train,X_val,X_test,Y_train,Y_val,Y_test"
   ]
  },
  {
   "cell_type": "code",
   "execution_count": 45,
   "metadata": {},
   "outputs": [
    {
     "data": {
      "image/png": "[encoded data removed]",
      "text/plain": [
       "<Figure size 1080x864 with 1 Axes>"
      ]
     },
     "metadata": {
      "needs_background": "light"
     },
     "output_type": "display_data"
    }
   ],
   "source": [
    "#X_train,X_val,X_test,Y_train,Y_val,Y_test = TVT(X,Y,0.4,0.5)\n",
    "X_train, X_val, Y_train, Y_val = train_test_split(X_pca, Y, test_size=0.8, random_state=13)\n",
    "freqs = [Y_train.shape[0],Y_val.shape[0]]\n",
    "\n",
    "plt.bar([f'Train {(freqs[0]/totImages)*100}%',f'Validation {freqs[1]/totImages*100}'])\n",
    "plt.title('Train-Validation/Test Distribution')\n",
    "plt.show()"
   ]
  },
  {
   "cell_type": "markdown",
   "metadata": {},
   "source": [
    "# **Models Prediction Analysis**\n",
    "\n",
    "### Support Vector Macinhe (SVM)\n",
    "\n",
    "- SVM's are algorithms commonly used for supervised machine learning models. \n",
    "- High degree of accuracy compared to other classification algorithms such as **K-Nearest Neighbour**\n",
    "- Separate data into different classes of data by using a hyperplane, supported by the use of **support vectors**\n",
    "- **Kernel** function transforms the data into a higher dimension\n",
    "    - Example: <u>Negative sum of the squares</u> of the coordinates for each of these values and have that equal the third dimension of the data\n",
    "- **Paramter Testing**:\n",
    "    - Kernel\n",
    "    - C = Regularization parameter\n",
    "    - \n",
    "\n",
    "Implementation Code docs: https://scikit-learn.org/stable/modules/generated/sklearn.svm.SVC.html\n",
    "### Artificial Neural Networks (MLP)\n",
    "- Capable of learning any <u>non-linear</u> function\n",
    "- Cannot capture sequential information in the input data which is required for dealing with sequence data\n",
    "- Consists of 3 layers – Input, Hidden and Output\n",
    "- The architeture is called Multi Layer Perceptron(MLP) a group of multiple perceptrons/neurons at each layer\n",
    "- Solve problems related to: Tabular data, Image data and Text data\n",
    "- **Paramter Testing**:\n",
    "    - Learning Rate\n",
    "    - Activation function\n",
    "\n",
    "Implementation Code docs: https://scikit-learn.org/stable/modules/generated/sklearn.neural_network.MLPClassifier.html\n",
    "\n",
    "Now, let us see how to overcome the limitations of MLP usinng the architecture of Convolution Neural Networks (CNN). \n",
    "Recurrent Neural Networks (RNN) will not be used in this project\n",
    "\n",
    "### Convulotinary Neural Networks(CNN):\n",
    "- Building blocks of CNNs are filters a.k.a. kernels, that are used to extract the relevant features from the input using the convolution operation.\n",
    "- Learns the filters automatically without mentioning it explicitly. These filters help in extracting the right and relevant features from the input data\n",
    "- Captures the spatial features from an image. Spatial features refer to the arrangement of pixels and the relationship between them in an image.\n",
    "- Also follows the concept of parameter sharing. A single filter is applied across different parts of an input to produce a feature map\n",
    "- **Paramter Testing**:\n",
    "    \n"
   ]
  },
  {
   "cell_type": "code",
   "execution_count": 97,
   "metadata": {},
   "outputs": [],
   "source": [
    "from sklearn.svm import SVC\n",
    "from sklearn.neural_network import MLPClassifier as MLP\n",
    "from sklearn.model_selection import GridSearchCV\n",
    "import pandas as pd"
   ]
  },
  {
   "cell_type": "markdown",
   "metadata": {},
   "source": [
    "### Evaluation Metrics:\n",
    "- Accuracy:\n",
    "- Precision:\n",
    "- Recall:\n",
    "- ROC_AUC:"
   ]
  },
  {
   "cell_type": "code",
   "execution_count": 98,
   "metadata": {},
   "outputs": [],
   "source": [
    "#C = 0.01,0.1,10\n",
    "params_SVM = {'kernel':['linear','poly','rbf','sigmoid']}\n",
    "params_MLP = {'learning_rate':['invscaling','adaptive','constant']}\n",
    "metrics = ['precision','recall','accuracy','roc_auc']\n",
    "columns = ['mean_test_accuracy','std_test_accuracy','mean_test_precision','std_test_precision','mean_test_recall','std_test_recall','mean_test_roc_auc','std_test_roc_auc']\n",
    "\n",
    "models = {}\n",
    "models.update({'SVM':GridSearchCV(SVC(),params_SVM,scoring = metrics,refit = False)})\n",
    "\n",
    "#models.update({'MLP': GridSearchCV(MLP(),params_MLP,scoring = metrics,refit = False)})\n",
    "#models.update({'MLP':GridSearchCV(MLPClassifier(),params_SVM)})\n",
    "#tensorFlow\n",
    "\n",
    "\n",
    "def modelMetrics(name,model):\n",
    "    sets_model = {}\n",
    "    df = pd.DataFrame(columns = columns)\n",
    "    modelResults = model.cv_results_\n",
    "    setParams = modelResults['params']\n",
    "    for i in range(len(setParams)):\n",
    "        row = []\n",
    "        for col in columns:\n",
    "            row.append(modelResults[col][i])\n",
    "        indexModel = f'{name}{i+1}'\n",
    "        df.loc[indexModel] = row\n",
    "        sets_model.update({indexModel:setParams[i]})\n",
    "    return df,sets_model"
   ]
  },
  {
   "cell_type": "code",
   "execution_count": 99,
   "metadata": {},
   "outputs": [
    {
     "name": "stdout",
     "output_type": "stream",
     "text": [
      "(24000, 100)\n"
     ]
    }
   ],
   "source": [
    "print(X_train.shape)\n",
    "for name,model in models.items():\n",
    "    model.fit(X_train,Y_train)"
   ]
  },
  {
   "cell_type": "code",
   "execution_count": 100,
   "metadata": {},
   "outputs": [
    {
     "name": "stdout",
     "output_type": "stream",
     "text": [
      "{'SVM1': {'kernel': 'linear'}, 'SVM2': {'kernel': 'poly'}, 'SVM3': {'kernel': 'rbf'}, 'SVM4': {'kernel': 'sigmoid'}}\n"
     ]
    }
   ],
   "source": [
    "for name,model in models.items():\n",
    "    df_final,sets_model = modelMetrics(name,model)\n",
    "    if name == 'SVM':\n",
    "        df_SVM = df_final\n",
    "        sets_SVM = sets_model\n",
    "    elif name == 'MLP':\n",
    "        df_MLP = df_final \n",
    "        sets_MLP = sets_model"
   ]
  },
  {
   "cell_type": "code",
   "execution_count": 101,
   "metadata": {},
   "outputs": [
    {
     "data": {
      "text/html": [
       "<div>\n",
       "<style scoped>\n",
       "    .dataframe tbody tr th:only-of-type {\n",
       "        vertical-align: middle;\n",
       "    }\n",
       "\n",
       "    .dataframe tbody tr th {\n",
       "        vertical-align: top;\n",
       "    }\n",
       "\n",
       "    .dataframe thead th {\n",
       "        text-align: right;\n",
       "    }\n",
       "</style>\n",
       "<table border=\"1\" class=\"dataframe\">\n",
       "  <thead>\n",
       "    <tr style=\"text-align: right;\">\n",
       "      <th></th>\n",
       "      <th>mean_test_accuracy</th>\n",
       "      <th>std_test_accuracy</th>\n",
       "      <th>mean_test_precision</th>\n",
       "      <th>std_test_precision</th>\n",
       "      <th>mean_test_recall</th>\n",
       "      <th>std_test_recall</th>\n",
       "      <th>mean_test_roc_auc</th>\n",
       "      <th>std_test_roc_auc</th>\n",
       "    </tr>\n",
       "  </thead>\n",
       "  <tbody>\n",
       "    <tr>\n",
       "      <th>SVM1</th>\n",
       "      <td>0.717792</td>\n",
       "      <td>0.006732</td>\n",
       "      <td>0.724652</td>\n",
       "      <td>0.005689</td>\n",
       "      <td>0.702765</td>\n",
       "      <td>0.009963</td>\n",
       "      <td>0.780765</td>\n",
       "      <td>0.006703</td>\n",
       "    </tr>\n",
       "    <tr>\n",
       "      <th>SVM2</th>\n",
       "      <td>0.921917</td>\n",
       "      <td>0.003863</td>\n",
       "      <td>0.925993</td>\n",
       "      <td>0.002863</td>\n",
       "      <td>0.917194</td>\n",
       "      <td>0.007148</td>\n",
       "      <td>0.973691</td>\n",
       "      <td>0.002119</td>\n",
       "    </tr>\n",
       "    <tr>\n",
       "      <th>SVM3</th>\n",
       "      <td>0.924417</td>\n",
       "      <td>0.003150</td>\n",
       "      <td>0.925750</td>\n",
       "      <td>0.005194</td>\n",
       "      <td>0.922943</td>\n",
       "      <td>0.003767</td>\n",
       "      <td>0.976747</td>\n",
       "      <td>0.001201</td>\n",
       "    </tr>\n",
       "    <tr>\n",
       "      <th>SVM4</th>\n",
       "      <td>0.509875</td>\n",
       "      <td>0.029751</td>\n",
       "      <td>0.509884</td>\n",
       "      <td>0.029540</td>\n",
       "      <td>0.513909</td>\n",
       "      <td>0.031237</td>\n",
       "      <td>0.516332</td>\n",
       "      <td>0.039273</td>\n",
       "    </tr>\n",
       "  </tbody>\n",
       "</table>\n",
       "</div>"
      ],
      "text/plain": [
       "      mean_test_accuracy  std_test_accuracy  mean_test_precision  \\\n",
       "SVM1            0.717792           0.006732             0.724652   \n",
       "SVM2            0.921917           0.003863             0.925993   \n",
       "SVM3            0.924417           0.003150             0.925750   \n",
       "SVM4            0.509875           0.029751             0.509884   \n",
       "\n",
       "      std_test_precision  mean_test_recall  std_test_recall  \\\n",
       "SVM1            0.005689          0.702765         0.009963   \n",
       "SVM2            0.002863          0.917194         0.007148   \n",
       "SVM3            0.005194          0.922943         0.003767   \n",
       "SVM4            0.029540          0.513909         0.031237   \n",
       "\n",
       "      mean_test_roc_auc  std_test_roc_auc  \n",
       "SVM1           0.780765          0.006703  \n",
       "SVM2           0.973691          0.002119  \n",
       "SVM3           0.976747          0.001201  \n",
       "SVM4           0.516332          0.039273  "
      ]
     },
     "execution_count": 101,
     "metadata": {},
     "output_type": "execute_result"
    }
   ],
   "source": [
    "df_SVM"
   ]
  },
  {
   "cell_type": "code",
   "execution_count": 106,
   "metadata": {},
   "outputs": [
    {
     "name": "stdout",
     "output_type": "stream",
     "text": [
      "Best recall: 0.9229425933638762\n",
      "Model SVM3 with the parameters: {'kernel': 'rbf'}\n",
      "\n",
      "Best precision: 0.9259931003952444\n",
      "Model SVM2 with the parameters: {'kernel': 'poly'}\n",
      "\n",
      "Best precision: 0.9244166666666669\n",
      "Model SVM3 with the parameters: {'kernel': 'rbf'}\n",
      "\n",
      "Best precision: 0.976746941219696\n",
      "Model SVM3 with the parameters: {'kernel': 'rbf'}\n",
      "\n"
     ]
    }
   ],
   "source": [
    "best_recall_svm = max(df_SVM['mean_test_recall'])\n",
    "svm_name = df_SVM['mean_test_recall'].idxmax()\n",
    "\n",
    "print(f'Best recall: {best_recall_svm}\\nModel {svm_name} with the parameters: {sets_SVM[svm_name]}\\n')\n",
    "\n",
    "best_precision_svm = max(df_SVM['mean_test_precision'])\n",
    "svm_name = df_SVM['mean_test_precision'].idxmax()\n",
    "print(f'Best precision: {best_precision_svm}\\nModel {svm_name} with the parameters: {sets_SVM[svm_name]}\\n')\n",
    "\n",
    "best_accuracy_svm = max(df_SVM['mean_test_accuracy'])\n",
    "svm_name = df_SVM['mean_test_accuracy'].idxmax()\n",
    "print(f'Best accuracy: {best_accuracy_svm}\\nModel {svm_name} with the parameters: {sets_SVM[svm_name]}\\n')\n",
    "\n",
    "best_roc_auc_svm = max(df_SVM['mean_test_roc_auc'])\n",
    "svm_name = df_SVM['mean_test_roc_auc'].idxmax()\n",
    "print(f'Best ROC_AUC: {best_roc_auc_svm}\\nModel {svm_name} with the parameters: {sets_SVM[svm_name]}\\n')"
   ]
  },
  {
   "cell_type": "markdown",
   "metadata": {},
   "source": [
    "# References \n",
    "- SVM: https://datagy.io/python-support-vector-machines/\n",
    "- ANN: https://www.analyticsvidhya.com/blog/2020/02/cnn-vs-rnn-vs-mlp-analyzing-3-types-of-neural-networks-in-deep-learning/\n",
    "- PCA: https://www.datacamp.com/tutorial/principal-component-analysis-in-python"
   ]
  }
 ],
 "metadata": {
  "interpreter": {
   "hash": "03d10abb906f65bdf92f0cf6bf0e9e92318b3e17b5124267de62c70620d20a7d"
  },
  "kernelspec": {
   "display_name": "Python 3.8.8 ('base')",
   "language": "python",
   "name": "python3"
  },
  "language_info": {
   "codemirror_mode": {
    "name": "ipython",
    "version": 3
   },
   "file_extension": ".py",
   "mimetype": "text/x-python",
   "name": "python",
   "nbconvert_exporter": "python",
   "pygments_lexer": "ipython3",
   "version": "3.10.4"
  },
  "orig_nbformat": 4
 },
 "nbformat": 4,
 "nbformat_minor": 2
}
