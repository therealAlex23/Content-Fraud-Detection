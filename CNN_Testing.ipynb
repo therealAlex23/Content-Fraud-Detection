{
 "cells": [
  {
   "cell_type": "code",
   "execution_count": null,
   "metadata": {
    "colab": {
     "base_uri": "https://localhost:8080/"
    },
    "id": "86s2zP2RQwaj",
    "outputId": "14cda16f-1e0a-421b-d8b2-e7502a3491f7"
   },
   "outputs": [],
   "source": [
    "from google.colab import drive\n",
    "drive.mount('/content/drive', force_remount=True)\n",
    "!unzip \"/content/drive/MyDrive/ACA_FDS/Datasets\" -d \"/content\""
   ]
  },
  {
   "cell_type": "code",
   "execution_count": null,
   "metadata": {
    "id": "Qakn7Bt3P8oG"
   },
   "outputs": [],
   "source": [
    "import matplotlib.pyplot as plt\n",
    "import seaborn as sns\n",
    "\n",
    "import tensorflow.keras\n",
    "from tensorflow.keras.layers import Dense, Conv2D , MaxPool2D , Flatten , Dropout \n",
    "from tensorflow.keras.preprocessing.image import ImageDataGenerator\n",
    "from tensorflow.keras.optimizers import Adam\n",
    "from tensorflow.keras.metrics import Accuracy, Precision, Recall, AUC\n",
    "from tensorflow.keras.models import Sequential, load_model, save_model\n",
    "\n",
    "from sklearn.metrics import classification_report,confusion_matrix\n",
    "\n",
    "import tensorflow as tf\n",
    "\n",
    "import cv2\n",
    "import os\n",
    "\n",
    "from tensorflow.keras.preprocessing import image\n",
    "from sklearn.model_selection import train_test_split\n",
    "\n",
    "import numpy as np\n",
    "import pandas as pd\n",
    "\n",
    "DIR = os.getcwd()\n",
    "IMG_WIDTH = 28\n",
    "IMG_HEIGHT = 28\n",
    "IMG_PIXELS = IMG_HEIGHT*IMG_WIDTH\n",
    "COLOR_MODE = 'grayscale'\n",
    "PATH_DATASET_TRAIN = \"Datasets/dataset_train/\"\n",
    "PATH_DATASET_TEST = 'Datasets/dataset_test1/'\n",
    "metrics = ['accuracy','precision','recall','roc_auc']\n"
   ]
  },
  {
   "cell_type": "code",
   "execution_count": null,
   "metadata": {
    "colab": {
     "base_uri": "https://localhost:8080/"
    },
    "id": "8jb2JuvOQdFA",
    "outputId": "b00d9ebb-056f-4ebd-e9b2-be51bf04c512"
   },
   "outputs": [],
   "source": [
    "def loadDataSet():\n",
    "    def loadImages():\n",
    "        # literalmente dar load das imagens todas para estes arrays\n",
    "        # Listas por compreencao for life <3\n",
    "        real = [image.load_img(PATH_DATASET_TRAIN+\"real/\"+file,target_size = (IMG_HEIGHT,IMG_WIDTH), color_mode=COLOR_MODE) for file in os.listdir(PATH_DATASET_TRAIN+\"real/\")]\n",
    "        fake = [image.load_img(PATH_DATASET_TRAIN+\"fake/\"+file,target_size = (IMG_HEIGHT,IMG_WIDTH), color_mode=COLOR_MODE) for file in os.listdir(PATH_DATASET_TRAIN+\"fake/\")]\n",
    "        return real,fake\n",
    "\n",
    "    def imagesToArray(imgs):\n",
    "        return np.array([image.img_to_array(img)[:,:,0] for img in imgs])\n",
    "    \n",
    "    real,fake = loadImages()\n",
    "    real_array = imagesToArray(real)\n",
    "    fake_array = imagesToArray(fake)\n",
    "    return real_array,fake_array\n",
    "\n",
    "real,fake = loadDataSet()\n",
    "\n",
    "X = np.append(real,fake,axis=0)\n",
    "y = np.append(np.ones((20000,1)),np.zeros((20000,1)))\n",
    "X_train, X_val, y_train, y_val = train_test_split(X, y, test_size=0.4, random_state=13)\n",
    "X_test, X_val, y_test, y_val = train_test_split(X_val, y_val, test_size=0.5, random_state=13)\n",
    "print(\"Train -> {} [{}%] \".format(len(y_train),len(y_train)/40000*100))\n",
    "print(\"Val   -> {} [{}%] \".format(len(y_val),len(y_val)/40000*100))\n",
    "print(\"Test  -> {} [{}%] \".format(len(y_test),len(y_test)/40000*100))\n",
    "\n",
    "X_train = X_train.reshape(-1, 28, 28,1)\n",
    "X_val = X_val.reshape(-1, 28, 28,1)\n",
    "X_train = X_train/255\n",
    "X_val = X_val/255\n",
    "X_test = X_test/255\n",
    "X_test = X_test.reshape(-1, 28, 28,1)"
   ]
  },
  {
   "cell_type": "code",
   "execution_count": null,
   "metadata": {
    "colab": {
     "base_uri": "https://localhost:8080/"
    },
    "id": "tlSrQe66Yww6",
    "outputId": "be9d0e59-8ff2-411c-b9d1-006c6be6c5c1"
   },
   "outputs": [],
   "source": [
    "print(X_train.shape)\n",
    "print(y_train.shape)\n",
    "print(y_train)"
   ]
  },
  {
   "cell_type": "code",
   "execution_count": null,
   "metadata": {
    "id": "eYZg8DC3RfNG"
   },
   "outputs": [],
   "source": [
    "dropouts = [0.5, 0.6]\n",
    "filters = [16,32]\n",
    "n_epochs = 100\n",
    "epochs = [i for i in range (n_epochs)]\n",
    "df_cnns = pd.DataFrame(columns = metrics)\n",
    "numCNN = 1"
   ]
  },
  {
   "cell_type": "code",
   "execution_count": null,
   "metadata": {
    "id": "LAfiBX1nSMCq"
   },
   "outputs": [],
   "source": [
    "from sklearn.metrics import accuracy_score,precision_score,recall_score,roc_auc_score\n",
    "\n",
    "def getMetrics(pred,real):\n",
    "    precision = precision_score(pred,real)\n",
    "    accuracy = accuracy_score(pred,real)\n",
    "    recall = recall_score(pred,real)\n",
    "    roc_auc = roc_auc_score(pred,real)\n",
    "\n",
    "    return [accuracy, precision, recall, roc_auc]"
   ]
  },
  {
   "cell_type": "code",
   "execution_count": null,
   "metadata": {
    "colab": {
     "base_uri": "https://localhost:8080/",
     "height": 1000
    },
    "id": "cZcpi94xQIsq",
    "outputId": "5a109bd0-f2f4-4015-eaef-275262dddce3"
   },
   "outputs": [],
   "source": [
    "for filt in filters:\n",
    "  for dropout in dropouts:\n",
    "    model_name = f'CNN{numCNN}'\n",
    "    print(f'filter:{filt}\\tDropout{dropout}')\n",
    "    cnn_model = Sequential()\n",
    "    cnn_model.add(Conv2D(filt, kernel_size=5, activation='relu',input_shape=(28,28,1)))\n",
    "    cnn_model.add(Conv2D(filt, kernel_size=5, activation='relu'))\n",
    "    cnn_model.add(Dropout(dropout))\n",
    "    cnn_model.add(Flatten())\n",
    "    cnn_model.add(Dense(128, activation='relu'))\n",
    "    cnn_model.add(Dense(84, activation='relu'))\n",
    "    cnn_model.add(Dense(1, activation='sigmoid'))\n",
    "    cnn_model.compile(\n",
    "                  optimizer=\"adam\",\n",
    "                  loss= tf.keras.losses.BinaryCrossentropy(from_logits=False),\n",
    "                  metrics=['accuracy'])\n",
    "\n",
    "    cnn_model_training = cnn_model.fit(\n",
    "                  X_train,\n",
    "                  y_train,\n",
    "                  epochs=n_epochs,\n",
    "                  validation_data=(X_val, y_val)\n",
    "              )\n",
    "  \n",
    "    cnn_accuracy     = cnn_model_training.history['accuracy']\n",
    "    cnn_val_accuracy = cnn_model_training.history['val_accuracy']\n",
    "    loss             = cnn_model_training.history['loss'] \n",
    "    val_loss         = cnn_model_training.history['val_loss']\n",
    "\n",
    "    pred = cnn_model.predict(X_val)\n",
    "    pred = pred.astype(int)\n",
    "    df_cnns[model_name] = getMetrics(pred,y_val)\n",
    "\n",
    "    numCNN +=1 \n",
    "    plt.plot(epochs, cnn_accuracy, 'b--', label='Training accuracy')\n",
    "    plt.plot(epochs, cnn_val_accuracy, 'orange', label='Validation accuracy')\n",
    "    plt.title('Training and validation accuracy')\n",
    "    plt.savefig(f'{model_name}_accuracy.png')\n",
    "    plt.legend()\n",
    "    plt.show()\n",
    "\n",
    "    plt.figure()\n",
    "    plt.plot(epochs, loss, 'b--', label = 'Training loss')\n",
    "    plt.plot(epochs, val_loss, 'orange', label = 'Validation loss')\n",
    "    plt.title('Training and validation loss')\n",
    "    plt.legend()\n",
    "    plt.savefig(f'{model_name}_loss.png')\n",
    "    plt.show()\n",
    "    \n",
    "df_cnns.to_csv('cnns.csv') "
   ]
  },
  {
   "cell_type": "code",
   "execution_count": null,
   "metadata": {
    "colab": {
     "base_uri": "https://localhost:8080/",
     "height": 165
    },
    "id": "YoLreo2Vw2dr",
    "outputId": "d8d3c091-4ae6-44d7-ea84-9518063fdd7b"
   },
   "outputs": [],
   "source": [
    "df_cnns"
   ]
  },
  {
   "cell_type": "code",
   "execution_count": null,
   "metadata": {
    "colab": {
     "base_uri": "https://localhost:8080/",
     "height": 310
    },
    "id": "3BrQ-tVuweAy",
    "outputId": "c8ee27c5-cd3b-4a53-f033-488ad970de75"
   },
   "outputs": [],
   "source": [
    "df_test_results = pd.read_csv('test_results.csv')"
   ]
  },
  {
   "cell_type": "code",
   "execution_count": null,
   "metadata": {
    "colab": {
     "base_uri": "https://localhost:8080/"
    },
    "id": "__j0LgBvwNX4",
    "outputId": "8892b462-cdbd-4e27-fccf-6578e20dedf1"
   },
   "outputs": [],
   "source": [
    "filt = 32\n",
    "dropout = 0.5\n",
    "model_name = \"CNN3\"\n",
    "\n",
    "cnn_model = Sequential()\n",
    "cnn_model.add(Conv2D(filt, kernel_size=5, activation='relu',input_shape=(28,28,1)))\n",
    "cnn_model.add(Conv2D(filt, kernel_size=5, activation='relu'))\n",
    "cnn_model.add(Dropout(dropout))\n",
    "cnn_model.add(Flatten())\n",
    "cnn_model.add(Dense(128, activation='relu'))\n",
    "cnn_model.add(Dense(84, activation='relu'))\n",
    "cnn_model.add(Dense(1, activation='sigmoid'))\n",
    "cnn_model.compile(\n",
    "            optimizer=\"adam\",\n",
    "            loss= tf.keras.losses.BinaryCrossentropy(from_logits=False),\n",
    "            metrics=['accuracy'])\n",
    "\n",
    "cnn_model_training = cnn_model.fit(\n",
    "            X_train,\n",
    "            y_train,\n",
    "            epochs=n_epochs,\n",
    "            validation_data=(X_val, y_val)\n",
    "        )\n",
    "\n",
    "pred = cnn_model.predict(X_test)\n",
    "pred = pred.astype(int)\n",
    "cnn_metrics = getMetrics(pred,y_test)\n",
    "cnn_metrics "
   ]
  },
  {
   "cell_type": "code",
   "execution_count": null,
   "metadata": {
    "id": "5UtX9AD-77tX"
   },
   "outputs": [],
   "source": [
    "svm_metrics=[0.976750, 0.975113, 0.978064, 0.976761]\n",
    "mlp_metrics=[0.97375, 0.966817, 0.980122, 0.973869]\n",
    "voting_metrics=[0.95375, 0.946455, 0.959969, 0.953869]\n",
    "rf_metrics=[0.910875, 0.943690, 0.884751, 0.912565]\n",
    "final_data=[svm_metrics, mlp_metrics, voting_metrics, rf_metrics, cnn_metrics]\n",
    "df_test_results=pd.DataFrame(data=final_data,columns=metrics,index=(\"SVM7\",\"MLP15\",\"Majority Weighted Voting\",\"RF8\",\"CNN3\"))\n",
    "df_test_results.to_csv(\"final_data.csv\")"
   ]
  },
  {
   "cell_type": "code",
   "execution_count": null,
   "metadata": {
    "colab": {
     "base_uri": "https://localhost:8080/"
    },
    "id": "DWQ3iohM8_CV",
    "outputId": "79e8d4a2-3625-4180-9f9f-20c8c5a862c1"
   },
   "outputs": [],
   "source": [
    "from tensorflow.keras.preprocessing import image\n",
    "test_ds = tf.keras.preprocessing.image_dataset_from_directory(\n",
    "    PATH_DATASET_TEST,\n",
    "    image_size=(IMG_HEIGHT, IMG_WIDTH),\n",
    "    color_mode=COLOR_MODE,\n",
    ")\n",
    "test_ds = test_ds.unbatch()\n",
    "\n",
    "test_data = []\n",
    "for img,label in test_ds.as_numpy_iterator():\n",
    "    imgData = np.array([row.flatten() for row in img])\n",
    "    test_data.append(imgData.flatten())\n",
    "    \n",
    "test_data = np.array(test_data)/255\n",
    "test_data = test_data.reshape(-1, 28, 28,1)"
   ]
  },
  {
   "cell_type": "code",
   "execution_count": null,
   "metadata": {
    "id": "GhMEGC7P9dT8"
   },
   "outputs": [],
   "source": [
    "df_submission = pd.DataFrame(columns = ['Id','Category'])\n",
    "df_submission['Id'] = [i for i in range(test_data.shape[0])]\n",
    "pred = cnn_model.predict(test_data)\n",
    "pred = pred.astype(int)\n",
    "df_submission['Category'] = pred"
   ]
  },
  {
   "cell_type": "code",
   "execution_count": null,
   "metadata": {
    "colab": {
     "base_uri": "https://localhost:8080/",
     "height": 424
    },
    "id": "CnrmXeVOeUaU",
    "outputId": "53e0d2a9-1849-4418-aa9e-eb84e1a7ba01"
   },
   "outputs": [],
   "source": [
    "df_submission"
   ]
  },
  {
   "cell_type": "code",
   "execution_count": null,
   "metadata": {
    "id": "uxZAokkj9e7e"
   },
   "outputs": [],
   "source": [
    "df_submission.to_csv(\"Submission.csv\", index=False)"
   ]
  },
  {
   "cell_type": "code",
   "execution_count": null,
   "metadata": {
    "colab": {
     "base_uri": "https://localhost:8080/"
    },
    "id": "1Mz1--Uahy_3",
    "outputId": "4b4ee59b-1c18-4426-ea4d-755bda4434a7"
   },
   "outputs": [],
   "source": []
  }
 ],
 "metadata": {
  "colab": {
   "collapsed_sections": [],
   "name": "CNN_Testing.ipynb",
   "provenance": [],
   "toc_visible": true
  },
  "kernelspec": {
   "display_name": "Python 3",
   "language": "python",
   "name": "python3"
  },
  "language_info": {
   "codemirror_mode": {
    "name": "ipython",
    "version": 3
   },
   "file_extension": ".py",
   "mimetype": "text/x-python",
   "name": "python",
   "nbconvert_exporter": "python",
   "pygments_lexer": "ipython3",
   "version": "3.8.8"
  }
 },
 "nbformat": 4,
 "nbformat_minor": 4
}
